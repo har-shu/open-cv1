{
  "nbformat": 4,
  "nbformat_minor": 0,
  "metadata": {
    "colab": {
      "name": "Hack3 open-cv.ipynb",
      "provenance": [],
      "authorship_tag": "ABX9TyO7nB8gTUzqE9OcMmwXnMmd",
      "include_colab_link": true
    },
    "kernelspec": {
      "name": "python3",
      "display_name": "Python 3"
    },
    "language_info": {
      "name": "python"
    }
  },
  "cells": [
    {
      "cell_type": "markdown",
      "metadata": {
        "id": "view-in-github",
        "colab_type": "text"
      },
      "source": [
        "<a href=\"https://colab.research.google.com/github/har-shu/open-cv1/blob/main/Hack3_open_cv.ipynb\" target=\"_parent\"><img src=\"https://colab.research.google.com/assets/colab-badge.svg\" alt=\"Open In Colab\"/></a>"
      ]
    },
    {
      "cell_type": "code",
      "metadata": {
        "colab": {
          "base_uri": "https://localhost:8080/"
        },
        "id": "67e6_OseN16h",
        "outputId": "0c4bc975-1c6c-4be1-c07c-52865eb2b38b"
      },
      "source": [
        "!git clone https://github.com/har-shu/open-cv1.git\n",
        "%cd open-cv1/\n",
        "from IPython .display import clear_output\n",
        "clear_output"
      ],
      "execution_count": 1,
      "outputs": [
        {
          "output_type": "stream",
          "text": [
            "Cloning into 'open-cv1'...\n",
            "remote: Enumerating objects: 12, done.\u001b[K\n",
            "remote: Counting objects: 100% (12/12), done.\u001b[K\n",
            "remote: Compressing objects: 100% (9/9), done.\u001b[K\n",
            "remote: Total 12 (delta 2), reused 0 (delta 0), pack-reused 0\u001b[K\n",
            "Unpacking objects: 100% (12/12), done.\n",
            "/content/open-cv1\n"
          ],
          "name": "stdout"
        },
        {
          "output_type": "execute_result",
          "data": {
            "text/plain": [
              "<function IPython.core.display.clear_output>"
            ]
          },
          "metadata": {
            "tags": []
          },
          "execution_count": 1
        }
      ]
    },
    {
      "cell_type": "code",
      "metadata": {
        "colab": {
          "base_uri": "https://localhost:8080/"
        },
        "id": "ZzGEaErkO8E_",
        "outputId": "e947d252-3aa8-408a-ed5f-c734f5137af6"
      },
      "source": [
        "from google.colab.patches import cv2_imshow\n",
        "from PIL import Image,ImageEnhance,ImageFilter\n",
        "img = Image.open(\"dr3.jpg\")\n",
        "print(img.size)\n",
        "\n",
        "#brightness\n",
        "enhancer = ImageEnhance.Brightness(img)\n",
        "img_bright = enhancer.enhance(1.8)\n",
        "img_bright.save(\"outputs/bright.jpg\")\n",
        "\n",
        "#dark\n",
        "img_dark = enhancer.enhance(0.5)\n",
        "img_dark.save(\"outputs/dark.jpg\")\n",
        "\n",
        "#pixels\n",
        "with Image.open('dr3.jpg') as im:\n",
        "    px = im.load()\n",
        "print (px[4,4])\n",
        "px[4,4] = (0,0,0)\n",
        "print (px[4,4])\n",
        "\n",
        "#detail\n",
        "from PIL.ImageFilter import (\n",
        "   BLUR, CONTOUR, DETAIL, EDGE_ENHANCE, EDGE_ENHANCE_MORE,\n",
        "   EMBOSS, FIND_EDGES, SMOOTH, SMOOTH_MORE, SHARPEN\n",
        ")\n",
        "#Create image object\n",
        "img = Image.open('dr3.jpg')\n",
        "#Applying the blur filter\n",
        "img1 = img.filter(DETAIL)\n",
        "img1.save(\"outputs/detail.jpg\")\n",
        "img1.show()\n",
        "\n",
        "#edge\n",
        "img1 = img.filter(EDGE_ENHANCE)\n",
        "img1.save('outputs/edge.jpg')\n",
        "\n",
        "#smooth\n",
        "img1 = img.filter(SMOOTH_MORE)\n",
        "img1.save('outputs/smooth.jpg')\n",
        "\n",
        "#sharp\n",
        "img1 = img.filter(SHARPEN)\n",
        "img1.save('outputs/sharp.jpg')\n",
        "\n",
        "#merge\n",
        "image = Image.open(\"dr3.jpg\")\n",
        "r, g, b = image.split()\n",
        "image.show()\n",
        "image = Image.merge(\"RGB\", (b, g, r))\n",
        "image.save(\"outputs/merge.jpg\")\n",
        "\n",
        "#two\n",
        "#Read the two images\n",
        "image1 = Image.open('dr3.jpg')\n",
        "image1.show()\n",
        "image2 = Image.open('dr3.jpg')\n",
        "image2.show()\n",
        "#resize, first image\n",
        "image1 = image1.resize((426, 240))\n",
        "image2 = image2.resize((568,902))\n",
        "image1_size = image1.size\n",
        "image2_size = image2.size\n",
        "new_image = Image.new('RGB',(2*image1_size[0], image1_size[1]), (250,250,250))\n",
        "new_image.paste(image1,(0,0))\n",
        "new_image.paste(image2,(image1_size[0],0))\n",
        "new_image.save(\"outputs/merge_image.jpg\")\n",
        "new_image.show()\n",
        "\n",
        "\n",
        "#flip\n",
        "\n",
        "\n",
        "imageObject = Image.open(\"dr3.jpg\")\n",
        "\n",
        "# Do a flip of left and right\n",
        "hori_flippedImage = imageObject.transpose(Image.FLIP_LEFT_RIGHT)\n",
        "\n",
        "# Show the original image\n",
        "imageObject.show()\n",
        "\n",
        "# Show the horizontal flipped image\n",
        "hori_flippedImage.save(\"outputs/flip.jpg\")"
      ],
      "execution_count": 3,
      "outputs": [
        {
          "output_type": "stream",
          "text": [
            "(858, 800)\n",
            "(255, 255, 255)\n",
            "(0, 0, 0)\n"
          ],
          "name": "stdout"
        }
      ]
    }
  ]
}